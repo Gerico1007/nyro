{
 "cells": [
  {
   "cell_type": "markdown",
   "metadata": {},
   "source": [
    "# 02 - Redis Streams Tutorial with Nyro\n",
    "\n",
    "This notebook demonstrates how to work with Redis Streams using the nyro CLI interface.\n",
    "\n",
    "TODO: Port content from docs/STREAMS.md."
   ]
  }
 ],
 "metadata": {},
 "nbformat": 4,
 "nbformat_minor": 5
}